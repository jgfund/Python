{
 "cells": [
  {
   "cell_type": "code",
   "execution_count": 1,
   "metadata": {},
   "outputs": [],
   "source": [
    "#recreates homework #1 from econ 534 in Python\n",
    "#test for heteroskedasticity using the White (1980) test\n",
    "#also show how to use WLS/GLS to correct for hetereoskedasticity\n",
    "#White test for heteroskedasticity\n",
    "#call in homepriceV10.dta data\n"
   ]
  },
  {
   "cell_type": "code",
   "execution_count": 2,
   "metadata": {},
   "outputs": [
    {
     "data": {
      "text/html": [
       "<div>\n",
       "<style scoped>\n",
       "    .dataframe tbody tr th:only-of-type {\n",
       "        vertical-align: middle;\n",
       "    }\n",
       "\n",
       "    .dataframe tbody tr th {\n",
       "        vertical-align: top;\n",
       "    }\n",
       "\n",
       "    .dataframe thead th {\n",
       "        text-align: right;\n",
       "    }\n",
       "</style>\n",
       "<table border=\"1\" class=\"dataframe\">\n",
       "  <thead>\n",
       "    <tr style=\"text-align: right;\">\n",
       "      <th></th>\n",
       "      <th>id</th>\n",
       "      <th>price</th>\n",
       "      <th>floor</th>\n",
       "      <th>lot</th>\n",
       "      <th>bath</th>\n",
       "      <th>bed</th>\n",
       "      <th>bathbed</th>\n",
       "      <th>year</th>\n",
       "      <th>age</th>\n",
       "      <th>agesq</th>\n",
       "      <th>gar</th>\n",
       "      <th>status</th>\n",
       "      <th>dac</th>\n",
       "      <th>school</th>\n",
       "      <th>ded</th>\n",
       "      <th>dha</th>\n",
       "      <th>dad</th>\n",
       "      <th>dcr</th>\n",
       "      <th>dpa</th>\n",
       "    </tr>\n",
       "  </thead>\n",
       "  <tbody>\n",
       "    <tr>\n",
       "      <th>71</th>\n",
       "      <td>72</td>\n",
       "      <td>249.899994</td>\n",
       "      <td>2081.000000</td>\n",
       "      <td>5</td>\n",
       "      <td>2.1</td>\n",
       "      <td>4</td>\n",
       "      <td>8.4</td>\n",
       "      <td>1970</td>\n",
       "      <td>0.0</td>\n",
       "      <td>0.00</td>\n",
       "      <td>1</td>\n",
       "      <td>Sold</td>\n",
       "      <td>0</td>\n",
       "      <td>Harris</td>\n",
       "      <td>0</td>\n",
       "      <td>1</td>\n",
       "      <td>0</td>\n",
       "      <td>0</td>\n",
       "      <td>0</td>\n",
       "    </tr>\n",
       "    <tr>\n",
       "      <th>72</th>\n",
       "      <td>73</td>\n",
       "      <td>215.000000</td>\n",
       "      <td>2043.999878</td>\n",
       "      <td>1</td>\n",
       "      <td>1.1</td>\n",
       "      <td>4</td>\n",
       "      <td>4.4</td>\n",
       "      <td>1936</td>\n",
       "      <td>-3.4</td>\n",
       "      <td>11.56</td>\n",
       "      <td>0</td>\n",
       "      <td>Sold</td>\n",
       "      <td>0</td>\n",
       "      <td>Parker</td>\n",
       "      <td>0</td>\n",
       "      <td>0</td>\n",
       "      <td>0</td>\n",
       "      <td>0</td>\n",
       "      <td>1</td>\n",
       "    </tr>\n",
       "    <tr>\n",
       "      <th>73</th>\n",
       "      <td>74</td>\n",
       "      <td>435.000000</td>\n",
       "      <td>2253.000000</td>\n",
       "      <td>11</td>\n",
       "      <td>2.0</td>\n",
       "      <td>3</td>\n",
       "      <td>6.0</td>\n",
       "      <td>1979</td>\n",
       "      <td>0.9</td>\n",
       "      <td>0.81</td>\n",
       "      <td>2</td>\n",
       "      <td>Sold</td>\n",
       "      <td>0</td>\n",
       "      <td>Redwood</td>\n",
       "      <td>0</td>\n",
       "      <td>0</td>\n",
       "      <td>0</td>\n",
       "      <td>0</td>\n",
       "      <td>0</td>\n",
       "    </tr>\n",
       "    <tr>\n",
       "      <th>74</th>\n",
       "      <td>75</td>\n",
       "      <td>274.899994</td>\n",
       "      <td>1861.000000</td>\n",
       "      <td>4</td>\n",
       "      <td>2.0</td>\n",
       "      <td>4</td>\n",
       "      <td>8.0</td>\n",
       "      <td>1995</td>\n",
       "      <td>2.5</td>\n",
       "      <td>6.25</td>\n",
       "      <td>2</td>\n",
       "      <td>Active</td>\n",
       "      <td>1</td>\n",
       "      <td>Parker</td>\n",
       "      <td>0</td>\n",
       "      <td>0</td>\n",
       "      <td>0</td>\n",
       "      <td>0</td>\n",
       "      <td>1</td>\n",
       "    </tr>\n",
       "    <tr>\n",
       "      <th>75</th>\n",
       "      <td>76</td>\n",
       "      <td>349.500000</td>\n",
       "      <td>2896.000000</td>\n",
       "      <td>4</td>\n",
       "      <td>3.0</td>\n",
       "      <td>5</td>\n",
       "      <td>15.0</td>\n",
       "      <td>1979</td>\n",
       "      <td>0.9</td>\n",
       "      <td>0.81</td>\n",
       "      <td>2</td>\n",
       "      <td>Active</td>\n",
       "      <td>1</td>\n",
       "      <td>Crest</td>\n",
       "      <td>0</td>\n",
       "      <td>0</td>\n",
       "      <td>0</td>\n",
       "      <td>1</td>\n",
       "      <td>0</td>\n",
       "    </tr>\n",
       "  </tbody>\n",
       "</table>\n",
       "</div>"
      ],
      "text/plain": [
       "    id       price        floor  lot  bath  bed  bathbed  year  age  agesq  \\\n",
       "71  72  249.899994  2081.000000    5   2.1    4      8.4  1970  0.0   0.00   \n",
       "72  73  215.000000  2043.999878    1   1.1    4      4.4  1936 -3.4  11.56   \n",
       "73  74  435.000000  2253.000000   11   2.0    3      6.0  1979  0.9   0.81   \n",
       "74  75  274.899994  1861.000000    4   2.0    4      8.0  1995  2.5   6.25   \n",
       "75  76  349.500000  2896.000000    4   3.0    5     15.0  1979  0.9   0.81   \n",
       "\n",
       "    gar  status  dac   school  ded  dha  dad  dcr  dpa  \n",
       "71    1    Sold    0   Harris    0    1    0    0    0  \n",
       "72    0    Sold    0   Parker    0    0    0    0    1  \n",
       "73    2    Sold    0  Redwood    0    0    0    0    0  \n",
       "74    2  Active    1   Parker    0    0    0    0    1  \n",
       "75    2  Active    1    Crest    0    0    0    1    0  "
      ]
     },
     "execution_count": 2,
     "metadata": {},
     "output_type": "execute_result"
    }
   ],
   "source": [
    "import pandas as pd\n",
    "hpv10data = 'C:/Users/jfras/OneDrive/UND/534AppliedEcon/Datasets/homepriceV10.dta'\n",
    "#make sure you preserve data types, otherwise it all comes in as strings\n",
    "df = pd.read_stata(hpv10data, preserve_dtypes=True)\n",
    "df.tail()"
   ]
  },
  {
   "cell_type": "code",
   "execution_count": 3,
   "metadata": {},
   "outputs": [
    {
     "name": "stdout",
     "output_type": "stream",
     "text": [
      "Check your data Datatypes after import\n",
      "id            int8\n",
      "price      float32\n",
      "floor      float32\n",
      "lot           int8\n",
      "bath       float32\n",
      "bed           int8\n",
      "bathbed    float32\n",
      "year         int16\n",
      "age        float32\n",
      "agesq      float32\n",
      "gar           int8\n",
      "status      object\n",
      "dac           int8\n",
      "school      object\n",
      "ded           int8\n",
      "dha           int8\n",
      "dad           int8\n",
      "dcr           int8\n",
      "dpa           int8\n",
      "dtype: object\n"
     ]
    }
   ],
   "source": [
    "print('Check your data Datatypes after import')\n",
    "print(df.dtypes)"
   ]
  },
  {
   "cell_type": "code",
   "execution_count": 4,
   "metadata": {},
   "outputs": [
    {
     "data": {
      "text/html": [
       "<div>\n",
       "<style scoped>\n",
       "    .dataframe tbody tr th:only-of-type {\n",
       "        vertical-align: middle;\n",
       "    }\n",
       "\n",
       "    .dataframe tbody tr th {\n",
       "        vertical-align: top;\n",
       "    }\n",
       "\n",
       "    .dataframe thead th {\n",
       "        text-align: right;\n",
       "    }\n",
       "</style>\n",
       "<table border=\"1\" class=\"dataframe\">\n",
       "  <thead>\n",
       "    <tr style=\"text-align: right;\">\n",
       "      <th></th>\n",
       "      <th>id</th>\n",
       "      <th>price</th>\n",
       "      <th>floor</th>\n",
       "      <th>lot</th>\n",
       "      <th>bath</th>\n",
       "      <th>bed</th>\n",
       "      <th>bathbed</th>\n",
       "      <th>year</th>\n",
       "      <th>age</th>\n",
       "      <th>agesq</th>\n",
       "      <th>gar</th>\n",
       "      <th>dac</th>\n",
       "      <th>ded</th>\n",
       "      <th>dha</th>\n",
       "      <th>dad</th>\n",
       "      <th>dcr</th>\n",
       "      <th>dpa</th>\n",
       "    </tr>\n",
       "  </thead>\n",
       "  <tbody>\n",
       "    <tr>\n",
       "      <th>count</th>\n",
       "      <td>76.000000</td>\n",
       "      <td>76.000000</td>\n",
       "      <td>76.000000</td>\n",
       "      <td>76.000000</td>\n",
       "      <td>76.000000</td>\n",
       "      <td>76.000000</td>\n",
       "      <td>76.000000</td>\n",
       "      <td>76.000000</td>\n",
       "      <td>76.000000</td>\n",
       "      <td>76.000000</td>\n",
       "      <td>76.000000</td>\n",
       "      <td>76.000000</td>\n",
       "      <td>76.000000</td>\n",
       "      <td>76.000000</td>\n",
       "      <td>76.000000</td>\n",
       "      <td>76.000000</td>\n",
       "      <td>76.000000</td>\n",
       "    </tr>\n",
       "    <tr>\n",
       "      <th>mean</th>\n",
       "      <td>38.500000</td>\n",
       "      <td>285.796112</td>\n",
       "      <td>1970.394775</td>\n",
       "      <td>3.986842</td>\n",
       "      <td>2.207895</td>\n",
       "      <td>3.447368</td>\n",
       "      <td>7.672367</td>\n",
       "      <td>1969.407895</td>\n",
       "      <td>-0.059211</td>\n",
       "      <td>5.449868</td>\n",
       "      <td>1.565789</td>\n",
       "      <td>0.328947</td>\n",
       "      <td>0.157895</td>\n",
       "      <td>0.184211</td>\n",
       "      <td>0.039474</td>\n",
       "      <td>0.078947</td>\n",
       "      <td>0.197368</td>\n",
       "    </tr>\n",
       "    <tr>\n",
       "      <th>std</th>\n",
       "      <td>22.083176</td>\n",
       "      <td>60.333218</td>\n",
       "      <td>212.419968</td>\n",
       "      <td>1.653227</td>\n",
       "      <td>0.570325</td>\n",
       "      <td>0.737468</td>\n",
       "      <td>2.764663</td>\n",
       "      <td>23.492511</td>\n",
       "      <td>2.349251</td>\n",
       "      <td>8.206545</td>\n",
       "      <td>0.771760</td>\n",
       "      <td>0.472953</td>\n",
       "      <td>0.367065</td>\n",
       "      <td>0.390232</td>\n",
       "      <td>0.196013</td>\n",
       "      <td>0.271448</td>\n",
       "      <td>0.400657</td>\n",
       "    </tr>\n",
       "    <tr>\n",
       "      <th>min</th>\n",
       "      <td>1.000000</td>\n",
       "      <td>155.500000</td>\n",
       "      <td>1440.000000</td>\n",
       "      <td>1.000000</td>\n",
       "      <td>1.000000</td>\n",
       "      <td>2.000000</td>\n",
       "      <td>2.000000</td>\n",
       "      <td>1905.000000</td>\n",
       "      <td>-6.500000</td>\n",
       "      <td>0.000000</td>\n",
       "      <td>0.000000</td>\n",
       "      <td>0.000000</td>\n",
       "      <td>0.000000</td>\n",
       "      <td>0.000000</td>\n",
       "      <td>0.000000</td>\n",
       "      <td>0.000000</td>\n",
       "      <td>0.000000</td>\n",
       "    </tr>\n",
       "    <tr>\n",
       "      <th>25%</th>\n",
       "      <td>19.750000</td>\n",
       "      <td>242.750000</td>\n",
       "      <td>1860.750000</td>\n",
       "      <td>3.000000</td>\n",
       "      <td>2.000000</td>\n",
       "      <td>3.000000</td>\n",
       "      <td>6.000000</td>\n",
       "      <td>1957.750000</td>\n",
       "      <td>-1.225000</td>\n",
       "      <td>0.250000</td>\n",
       "      <td>1.000000</td>\n",
       "      <td>0.000000</td>\n",
       "      <td>0.000000</td>\n",
       "      <td>0.000000</td>\n",
       "      <td>0.000000</td>\n",
       "      <td>0.000000</td>\n",
       "      <td>0.000000</td>\n",
       "    </tr>\n",
       "    <tr>\n",
       "      <th>50%</th>\n",
       "      <td>38.500000</td>\n",
       "      <td>276.000000</td>\n",
       "      <td>1966.500000</td>\n",
       "      <td>4.000000</td>\n",
       "      <td>2.000000</td>\n",
       "      <td>3.000000</td>\n",
       "      <td>6.300000</td>\n",
       "      <td>1969.500000</td>\n",
       "      <td>-0.050000</td>\n",
       "      <td>1.220000</td>\n",
       "      <td>2.000000</td>\n",
       "      <td>0.000000</td>\n",
       "      <td>0.000000</td>\n",
       "      <td>0.000000</td>\n",
       "      <td>0.000000</td>\n",
       "      <td>0.000000</td>\n",
       "      <td>0.000000</td>\n",
       "    </tr>\n",
       "    <tr>\n",
       "      <th>75%</th>\n",
       "      <td>57.250000</td>\n",
       "      <td>336.750000</td>\n",
       "      <td>2107.500000</td>\n",
       "      <td>5.000000</td>\n",
       "      <td>3.000000</td>\n",
       "      <td>4.000000</td>\n",
       "      <td>9.000000</td>\n",
       "      <td>1980.000000</td>\n",
       "      <td>1.000000</td>\n",
       "      <td>9.000000</td>\n",
       "      <td>2.000000</td>\n",
       "      <td>1.000000</td>\n",
       "      <td>0.000000</td>\n",
       "      <td>0.000000</td>\n",
       "      <td>0.000000</td>\n",
       "      <td>0.000000</td>\n",
       "      <td>0.000000</td>\n",
       "    </tr>\n",
       "    <tr>\n",
       "      <th>max</th>\n",
       "      <td>76.000000</td>\n",
       "      <td>450.000000</td>\n",
       "      <td>2896.000000</td>\n",
       "      <td>11.000000</td>\n",
       "      <td>3.100000</td>\n",
       "      <td>6.000000</td>\n",
       "      <td>15.000000</td>\n",
       "      <td>2005.000000</td>\n",
       "      <td>3.500000</td>\n",
       "      <td>42.250000</td>\n",
       "      <td>3.000000</td>\n",
       "      <td>1.000000</td>\n",
       "      <td>1.000000</td>\n",
       "      <td>1.000000</td>\n",
       "      <td>1.000000</td>\n",
       "      <td>1.000000</td>\n",
       "      <td>1.000000</td>\n",
       "    </tr>\n",
       "  </tbody>\n",
       "</table>\n",
       "</div>"
      ],
      "text/plain": [
       "              id       price        floor        lot       bath        bed  \\\n",
       "count  76.000000   76.000000    76.000000  76.000000  76.000000  76.000000   \n",
       "mean   38.500000  285.796112  1970.394775   3.986842   2.207895   3.447368   \n",
       "std    22.083176   60.333218   212.419968   1.653227   0.570325   0.737468   \n",
       "min     1.000000  155.500000  1440.000000   1.000000   1.000000   2.000000   \n",
       "25%    19.750000  242.750000  1860.750000   3.000000   2.000000   3.000000   \n",
       "50%    38.500000  276.000000  1966.500000   4.000000   2.000000   3.000000   \n",
       "75%    57.250000  336.750000  2107.500000   5.000000   3.000000   4.000000   \n",
       "max    76.000000  450.000000  2896.000000  11.000000   3.100000   6.000000   \n",
       "\n",
       "         bathbed         year        age      agesq        gar        dac  \\\n",
       "count  76.000000    76.000000  76.000000  76.000000  76.000000  76.000000   \n",
       "mean    7.672367  1969.407895  -0.059211   5.449868   1.565789   0.328947   \n",
       "std     2.764663    23.492511   2.349251   8.206545   0.771760   0.472953   \n",
       "min     2.000000  1905.000000  -6.500000   0.000000   0.000000   0.000000   \n",
       "25%     6.000000  1957.750000  -1.225000   0.250000   1.000000   0.000000   \n",
       "50%     6.300000  1969.500000  -0.050000   1.220000   2.000000   0.000000   \n",
       "75%     9.000000  1980.000000   1.000000   9.000000   2.000000   1.000000   \n",
       "max    15.000000  2005.000000   3.500000  42.250000   3.000000   1.000000   \n",
       "\n",
       "             ded        dha        dad        dcr        dpa  \n",
       "count  76.000000  76.000000  76.000000  76.000000  76.000000  \n",
       "mean    0.157895   0.184211   0.039474   0.078947   0.197368  \n",
       "std     0.367065   0.390232   0.196013   0.271448   0.400657  \n",
       "min     0.000000   0.000000   0.000000   0.000000   0.000000  \n",
       "25%     0.000000   0.000000   0.000000   0.000000   0.000000  \n",
       "50%     0.000000   0.000000   0.000000   0.000000   0.000000  \n",
       "75%     0.000000   0.000000   0.000000   0.000000   0.000000  \n",
       "max     1.000000   1.000000   1.000000   1.000000   1.000000  "
      ]
     },
     "execution_count": 4,
     "metadata": {},
     "output_type": "execute_result"
    }
   ],
   "source": [
    "df.describe()"
   ]
  },
  {
   "cell_type": "code",
   "execution_count": 5,
   "metadata": {},
   "outputs": [
    {
     "data": {
      "text/plain": [
       "(76, 19)"
      ]
     },
     "execution_count": 5,
     "metadata": {},
     "output_type": "execute_result"
    }
   ],
   "source": [
    "df.shape\n",
    "#(rows,columns)"
   ]
  },
  {
   "cell_type": "code",
   "execution_count": 42,
   "metadata": {},
   "outputs": [
    {
     "data": {
      "text/plain": [
       "<Figure size 432x288 with 0 Axes>"
      ]
     },
     "metadata": {},
     "output_type": "display_data"
    },
    {
     "data": {
      "image/png": "[encoded data removed]",
      "text/plain": [
       "<Figure size 432x288 with 1 Axes>"
      ]
     },
     "metadata": {},
     "output_type": "display_data"
    }
   ],
   "source": [
    "#have to execute this block twice before graph shows up 7-14-2020\n",
    "import numpy as np\n",
    "import matplotlib.pyplot as plt\n",
    "#some options...\n",
    "#plt.ion()\n",
    "#plt.figure(figsize=(15,10))\n",
    "plt.tight_layout()\n",
    "#now the plot\n",
    "df.plot(x='floor', y='price', style='o')\n",
    "plt.title('Square Feet vs Price')\n",
    "plt.xlabel('Floor')  \n",
    "plt.ylabel('Price')\n",
    "plt.pause(.10)\n",
    "plt.show(block=False)\n",
    "\n",
    "#legend disappears with this method below\n",
    "##plt.plot('floor', 'price', 'o', data=df)"
   ]
  },
  {
   "cell_type": "code",
   "execution_count": 7,
   "metadata": {},
   "outputs": [
    {
     "name": "stderr",
     "output_type": "stream",
     "text": [
      "C:\\Users\\jfras\\Anaconda3\\lib\\site-packages\\matplotlib\\axes\\_axes.py:6462: UserWarning: The 'normed' kwarg is deprecated, and has been replaced by the 'density' kwarg.\n",
      "  warnings.warn(\"The 'normed' kwarg is deprecated, and has been \"\n"
     ]
    },
    {
     "data": {
      "text/plain": [
       "<matplotlib.axes._subplots.AxesSubplot at 0x1fb2ee21898>"
      ]
     },
     "execution_count": 7,
     "metadata": {},
     "output_type": "execute_result"
    },
    {
     "data": {
      "image/png": "[encoded data removed]",
      "text/plain": [
       "<Figure size 432x288 with 1 Axes>"
      ]
     },
     "metadata": {},
     "output_type": "display_data"
    }
   ],
   "source": [
    "import seaborn as seabornInstance \n",
    "#plt.figure(figsize=(15,10))\n",
    "#plt.tight_layout()\n",
    "seabornInstance.distplot(df['price'])"
   ]
  },
  {
   "cell_type": "code",
   "execution_count": 8,
   "metadata": {},
   "outputs": [
    {
     "data": {
      "text/plain": [
       "(76, 3)"
      ]
     },
     "execution_count": 8,
     "metadata": {},
     "output_type": "execute_result"
    }
   ],
   "source": [
    "#setup 3 variables as independent variables\n",
    "# tried df2 = pd.DataFrame(hpv10data,columns=['id','price','floor','lot','bath','bed','bathbed','year','age','agesq','gar','status','dac','school','ded','dha','dad','dcr','dpa'])\n",
    "# tried X=df['floor'].values.reshape(-1,1)\n",
    "X = pd.read_stata(hpv10data,columns=['floor', 'lot', 'bed']).values\n",
    "X.shape"
   ]
  },
  {
   "cell_type": "code",
   "execution_count": 9,
   "metadata": {},
   "outputs": [
    {
     "data": {
      "text/plain": [
       "(76, 1)"
      ]
     },
     "execution_count": 9,
     "metadata": {},
     "output_type": "execute_result"
    }
   ],
   "source": [
    "y = df['price'].values.reshape(-1,1)\n",
    "y.shape"
   ]
  },
  {
   "cell_type": "code",
   "execution_count": 10,
   "metadata": {},
   "outputs": [
    {
     "name": "stdout",
     "output_type": "stream",
     "text": [
      "                            OLS Regression Results                            \n",
      "==============================================================================\n",
      "Dep. Variable:                      y   R-squared:                       0.185\n",
      "Model:                            OLS   Adj. R-squared:                  0.151\n",
      "Method:                 Least Squares   F-statistic:                     5.449\n",
      "Date:                Fri, 17 Jul 2020   Prob (F-statistic):            0.00197\n",
      "Time:                        07:17:30   Log-Likelihood:                -411.15\n",
      "No. Observations:                  76   AIC:                             830.3\n",
      "Df Residuals:                      72   BIC:                             839.6\n",
      "Df Model:                           3                                         \n",
      "Covariance Type:            nonrobust                                         \n",
      "==============================================================================\n",
      "                 coef    std err          t      P>|t|      [0.025      0.975]\n",
      "------------------------------------------------------------------------------\n",
      "Intercept    199.5321     64.415      3.098      0.003      71.123     327.941\n",
      "lot            6.0519      3.993      1.515      0.134      -1.909      14.012\n",
      "floor          0.0766      0.031      2.451      0.017       0.014       0.139\n",
      "bed          -25.7770      9.210     -2.799      0.007     -44.137      -7.417\n",
      "==============================================================================\n",
      "Omnibus:                        1.294   Durbin-Watson:                   1.188\n",
      "Prob(Omnibus):                  0.524   Jarque-Bera (JB):                1.268\n",
      "Skew:                           0.300   Prob(JB):                        0.530\n",
      "Kurtosis:                       2.798   Cond. No.                     2.00e+04\n",
      "==============================================================================\n",
      "\n",
      "Warnings:\n",
      "[1] Standard Errors assume that the covariance matrix of the errors is correctly specified.\n",
      "[2] The condition number is large,  2e+04. This might indicate that there are\n",
      "strong multicollinearity or other numerical problems.\n"
     ]
    }
   ],
   "source": [
    "#create the regression using stats models\n",
    "#could have done it this way but\n",
    "#sklearn does not have nice anova table so we will use stats models\n",
    "#from sklearn.linear_model import LinearRegression\n",
    "#regress price on lot, floor, bed\n",
    "#regr = LinearRegression()\n",
    "#regr.fit(X, y)\n",
    "\n",
    "#using stats models\n",
    "import statsmodels.api as sm\n",
    "from statsmodels.formula.api import ols\n",
    "from statsmodels.stats.anova import anova_lm\n",
    "#regress price on lot, floor, bed\n",
    "expr1 = 'y ~ lot + floor + bed'\n",
    "lm1 = ols(expr1, df).fit()\n",
    "print(lm1.summary())\n",
    "\n",
    "#print(regr.intercept_)\n",
    "#print(regr.coef_)"
   ]
  },
  {
   "cell_type": "code",
   "execution_count": 11,
   "metadata": {},
   "outputs": [
    {
     "name": "stdout",
     "output_type": "stream",
     "text": [
      "rsquared()\n",
      " 0.18502569189605078\n",
      "parameters()\n",
      " Intercept    199.532070\n",
      "lot            6.051861\n",
      "floor          0.076634\n",
      "bed          -25.777043\n",
      "dtype: float64\n"
     ]
    }
   ],
   "source": [
    "#you can use these commands to print the attributes of the regeression, similair to stata's \"e\"\n",
    "#print(\"summary()\\n\",lm1.summary())\n",
    "#print(\"pvalues()\\n\",lm1.pvalues)\n",
    "#print(\"tvalues()\\n\",lm1.tvalues)\n",
    "print(\"rsquared()\\n\",lm1.rsquared)\n",
    "#print(\"rsquared_adj()\\n\",lm2.rsquared_adj)\n",
    "print(\"parameters()\\n\",lm1.params)"
   ]
  },
  {
   "cell_type": "code",
   "execution_count": 12,
   "metadata": {},
   "outputs": [],
   "source": [
    "#now show the residual, white noise?"
   ]
  },
  {
   "cell_type": "code",
   "execution_count": 13,
   "metadata": {},
   "outputs": [
    {
     "name": "stdout",
     "output_type": "stream",
     "text": [
      "[287.69335256 284.08933584 288.53410495 294.79530553 240.41686851\n",
      " 303.04595737 258.5724515  293.36426488 267.92179342 299.59742961\n",
      " 321.05493566 263.78356011 290.09704086 305.72814563 262.78731876\n",
      " 300.21050122 272.36656253 257.45319916 284.58161751 250.70941154\n",
      " 349.20096801 237.39344542 276.27488464 269.83542111 308.25928705\n",
      " 297.68380193 281.56263655 279.44936392 290.7078914  306.49448513\n",
      " 273.69737553 251.52212809 272.2457726  291.17213723 201.65843094\n",
      " 226.74354741 283.65756798 315.00307466 311.70115161 315.6139252\n",
      " 310.06380282 301.33197463 256.35228801 290.94001431 267.92623555\n",
      " 286.42083232 335.18361833 307.79948335 250.2679584  283.8896909\n",
      " 243.29648065 292.31942541 285.77972488 288.46191313 285.1158341\n",
      " 290.09704086 281.43518343 305.80700064 291.17657936 291.17657936\n",
      " 291.17657936 291.17657936 291.17657936 283.65756798 270.06754403\n",
      " 319.36454663 297.68602299 273.92949844 296.37880371 292.01288961\n",
      " 315.61614626 286.1584525  259.11554299 361.427701   263.24712246\n",
      " 316.78621778]\n"
     ]
    },
    {
     "data": {
      "text/plain": [
       "Text(0.5,1,'Actuals vs Regresion Line')"
      ]
     },
     "execution_count": 13,
     "metadata": {},
     "output_type": "execute_result"
    },
    {
     "data": {
      "image/png": "[encoded data removed]",
      "text/plain": [
       "<Figure size 432x288 with 1 Axes>"
      ]
     },
     "metadata": {},
     "output_type": "display_data"
    }
   ],
   "source": [
    "#first create the predicted value of y\n",
    "yhat = lm1.predict()\n",
    "print(yhat)\n",
    "plt.plot(X, y, 'o', color='black')\n",
    "plt.xlabel('Lot Size')  \n",
    "plt.ylabel('Price')\n",
    "plt.title(\"Actuals vs Regresion Line\")\n",
    "\n",
    "#https://www.statsmodels.org/v0.10.2/examples/notebooks/generated/predict.html"
   ]
  },
  {
   "cell_type": "code",
   "execution_count": null,
   "metadata": {},
   "outputs": [],
   "source": []
  },
  {
   "cell_type": "code",
   "execution_count": 14,
   "metadata": {},
   "outputs": [
    {
     "name": "stderr",
     "output_type": "stream",
     "text": [
      "C:\\Users\\jfras\\Anaconda3\\lib\\site-packages\\matplotlib\\cbook\\deprecation.py:107: MatplotlibDeprecationWarning: cycling among columns of inputs with non-matching shapes is deprecated.\n",
      "  warnings.warn(message, mplDeprecation, stacklevel=1)\n"
     ]
    },
    {
     "data": {
      "text/plain": [
       "Text(0,0.5,'Residual')"
      ]
     },
     "execution_count": 14,
     "metadata": {},
     "output_type": "execute_result"
    },
    {
     "data": {
      "image/png": "[encoded data removed]",
      "text/plain": [
       "<Figure size 432x288 with 1 Axes>"
      ]
     },
     "metadata": {},
     "output_type": "display_data"
    }
   ],
   "source": [
    "# get residual (uhat)\n",
    "uhat= y-yhat\n",
    "plt.plot(X,uhat, 'o', color='darkblue')\n",
    "plt.title(\"Residual Plot\")\n",
    "plt.xlabel(\"Independent Variable\")\n",
    "plt.ylabel(\"Residual\")"
   ]
  },
  {
   "cell_type": "code",
   "execution_count": 15,
   "metadata": {},
   "outputs": [],
   "source": [
    "#some white test instructions\n",
    "#http://hamelg.blogspot.com/2015/11/python-for-data-analysis-part-25-chi.html\n",
    "#https://docs.scipy.org/doc/scipy/reference/generated/scipy.stats.chisquare.html\n",
    "#https://docs.scipy.org/doc/scipy/reference/generated/scipy.stats.power_divergence.html#scipy.stats.power_divergence\n",
    "#https://www.programiz.com/python-programming/tuple\n",
    "#https://mgimond.github.io/Stats-in-R/ChiSquare_test.html"
   ]
  },
  {
   "cell_type": "code",
   "execution_count": 16,
   "metadata": {},
   "outputs": [],
   "source": [
    "#SHORT METHOD FOR WHITE TEST for expr1"
   ]
  },
  {
   "cell_type": "code",
   "execution_count": 17,
   "metadata": {},
   "outputs": [
    {
     "data": {
      "text/plain": [
       "[('Lagrange Multiplier statistic:', 23.477103601988624),\n",
       " (\"LM test's p-value:\", 0.005209234235067892),\n",
       " ('F-statistic:', 3.277911886464468),\n",
       " (\"F-test's p-value:\", 0.0023546410927008307)]"
      ]
     },
     "execution_count": 17,
     "metadata": {},
     "output_type": "execute_result"
    }
   ],
   "source": [
    "# now finally the white test for heteroskedasticity, using patsy dmatrices function from statsmodels library\n",
    "from statsmodels.stats.diagnostic import het_white\n",
    "from statsmodels.compat import lzip\n",
    "from patsy import dmatrices\n",
    "#prep the expression for the dmatrices function\n",
    "#from above expr1 = 'y ~ lot + floor + bed'\n",
    "#set up the dataframe\n",
    "uhat, X = dmatrices(expr1, df, return_type='dataframe')\n",
    "#execute the test\n",
    "keys = ['Lagrange Multiplier statistic:', 'LM test\\'s p-value:', 'F-statistic:', 'F-test\\'s p-value:']\n",
    "results = het_white(uhat, X)\n",
    "lzip(keys, results)\n",
    "#print(\"heteroskedasticity is a problem here\")\n"
   ]
  },
  {
   "cell_type": "code",
   "execution_count": 18,
   "metadata": {},
   "outputs": [
    {
     "data": {
      "text/plain": [
       "(23.477103601988624,\n",
       " 0.005209234235067892,\n",
       " 3.277911886464468,\n",
       " 0.0023546410927008307)"
      ]
     },
     "execution_count": 18,
     "metadata": {},
     "output_type": "execute_result"
    }
   ],
   "source": [
    "#2ND SHORT METHOD OF WHITE TEST FOR expr1\n",
    "#white test\n",
    "#statsmodels.stats.diagnostic.het_white(residuals-array, regressors-array)\n",
    "sm.stats.diagnostic.het_white(uhat, X)\n",
    "\n",
    "#https://medium.com/keita-starts-data-science/heteroskedasticity-in-linear-regressions-and-python-16eb57eaa09"
   ]
  },
  {
   "cell_type": "code",
   "execution_count": 19,
   "metadata": {},
   "outputs": [
    {
     "name": "stdout",
     "output_type": "stream",
     "text": [
      "HC0_se()\n",
      " Intercept    57.374840\n",
      "lot           4.088143\n",
      "floor         0.026044\n",
      "bed           8.310545\n",
      "dtype: float64\n"
     ]
    }
   ],
   "source": [
    "#print White's 1980 Robust Standard errors\n",
    "print(\"HC0_se()\\n\",lm1.HC0_se)\n",
    "#https://www.statsmodels.org/0.8.0/generated/statsmodels.regression.linear_model.RegressionResults.html#statsmodels.regression.linear_model.RegressionResults"
   ]
  },
  {
   "cell_type": "code",
   "execution_count": null,
   "metadata": {},
   "outputs": [],
   "source": []
  },
  {
   "cell_type": "code",
   "execution_count": 20,
   "metadata": {},
   "outputs": [],
   "source": [
    "#LONG METHOD FOR WHITE TEST\n",
    "#now do the white test for heteroskedasticity showing the work done by the library function het_white behind the scenes"
   ]
  },
  {
   "cell_type": "code",
   "execution_count": 21,
   "metadata": {},
   "outputs": [
    {
     "data": {
      "text/plain": [
       "(76, 26)"
      ]
     },
     "execution_count": 21,
     "metadata": {},
     "output_type": "execute_result"
    }
   ],
   "source": [
    "#create some interaction variables\n",
    "df['uhat_2'] = uhat * uhat\n",
    "df['lot_floor'] = df.lot * df.floor\n",
    "df['lot_bed'] = df.lot * df.bed\n",
    "df['floor_bed'] = df.floor * df.bed\n",
    "df['lot_2'] = df.lot * df.lot\n",
    "df['floor_2'] = df.floor * df.floor\n",
    "df['bed_2'] = df.bed * df.bed\n",
    "#check the dataframe, previously was 19 columns, should have added 7 columns for a total of 26\n",
    "df.shape\n",
    "#df.tail()\n",
    "\n"
   ]
  },
  {
   "cell_type": "code",
   "execution_count": 22,
   "metadata": {},
   "outputs": [
    {
     "data": {
      "text/html": [
       "<div>\n",
       "<style scoped>\n",
       "    .dataframe tbody tr th:only-of-type {\n",
       "        vertical-align: middle;\n",
       "    }\n",
       "\n",
       "    .dataframe tbody tr th {\n",
       "        vertical-align: top;\n",
       "    }\n",
       "\n",
       "    .dataframe thead th {\n",
       "        text-align: right;\n",
       "    }\n",
       "</style>\n",
       "<table border=\"1\" class=\"dataframe\">\n",
       "  <thead>\n",
       "    <tr style=\"text-align: right;\">\n",
       "      <th></th>\n",
       "      <th>id</th>\n",
       "      <th>price</th>\n",
       "      <th>floor</th>\n",
       "      <th>lot</th>\n",
       "      <th>bath</th>\n",
       "      <th>bed</th>\n",
       "      <th>bathbed</th>\n",
       "      <th>year</th>\n",
       "      <th>age</th>\n",
       "      <th>agesq</th>\n",
       "      <th>...</th>\n",
       "      <th>dad</th>\n",
       "      <th>dcr</th>\n",
       "      <th>dpa</th>\n",
       "      <th>uhat_2</th>\n",
       "      <th>lot_floor</th>\n",
       "      <th>lot_bed</th>\n",
       "      <th>floor_bed</th>\n",
       "      <th>lot_2</th>\n",
       "      <th>floor_2</th>\n",
       "      <th>bed_2</th>\n",
       "    </tr>\n",
       "  </thead>\n",
       "  <tbody>\n",
       "    <tr>\n",
       "      <th>71</th>\n",
       "      <td>72</td>\n",
       "      <td>249.899994</td>\n",
       "      <td>2081.000000</td>\n",
       "      <td>5</td>\n",
       "      <td>2.1</td>\n",
       "      <td>4</td>\n",
       "      <td>8.4</td>\n",
       "      <td>1970</td>\n",
       "      <td>0.0</td>\n",
       "      <td>0.00</td>\n",
       "      <td>...</td>\n",
       "      <td>0</td>\n",
       "      <td>0</td>\n",
       "      <td>0</td>\n",
       "      <td>62450.006949</td>\n",
       "      <td>10405.000000</td>\n",
       "      <td>20</td>\n",
       "      <td>8324.000000</td>\n",
       "      <td>25</td>\n",
       "      <td>4330561.0</td>\n",
       "      <td>16</td>\n",
       "    </tr>\n",
       "    <tr>\n",
       "      <th>72</th>\n",
       "      <td>73</td>\n",
       "      <td>215.000000</td>\n",
       "      <td>2043.999878</td>\n",
       "      <td>1</td>\n",
       "      <td>1.1</td>\n",
       "      <td>4</td>\n",
       "      <td>4.4</td>\n",
       "      <td>1936</td>\n",
       "      <td>-3.4</td>\n",
       "      <td>11.56</td>\n",
       "      <td>...</td>\n",
       "      <td>0</td>\n",
       "      <td>0</td>\n",
       "      <td>1</td>\n",
       "      <td>46225.000000</td>\n",
       "      <td>2043.999878</td>\n",
       "      <td>4</td>\n",
       "      <td>8175.999512</td>\n",
       "      <td>1</td>\n",
       "      <td>4177935.5</td>\n",
       "      <td>16</td>\n",
       "    </tr>\n",
       "    <tr>\n",
       "      <th>73</th>\n",
       "      <td>74</td>\n",
       "      <td>435.000000</td>\n",
       "      <td>2253.000000</td>\n",
       "      <td>11</td>\n",
       "      <td>2.0</td>\n",
       "      <td>3</td>\n",
       "      <td>6.0</td>\n",
       "      <td>1979</td>\n",
       "      <td>0.9</td>\n",
       "      <td>0.81</td>\n",
       "      <td>...</td>\n",
       "      <td>0</td>\n",
       "      <td>0</td>\n",
       "      <td>0</td>\n",
       "      <td>189225.000000</td>\n",
       "      <td>24783.000000</td>\n",
       "      <td>33</td>\n",
       "      <td>6759.000000</td>\n",
       "      <td>121</td>\n",
       "      <td>5076009.0</td>\n",
       "      <td>9</td>\n",
       "    </tr>\n",
       "    <tr>\n",
       "      <th>74</th>\n",
       "      <td>75</td>\n",
       "      <td>274.899994</td>\n",
       "      <td>1861.000000</td>\n",
       "      <td>4</td>\n",
       "      <td>2.0</td>\n",
       "      <td>4</td>\n",
       "      <td>8.0</td>\n",
       "      <td>1995</td>\n",
       "      <td>2.5</td>\n",
       "      <td>6.25</td>\n",
       "      <td>...</td>\n",
       "      <td>0</td>\n",
       "      <td>0</td>\n",
       "      <td>1</td>\n",
       "      <td>75570.006644</td>\n",
       "      <td>7444.000000</td>\n",
       "      <td>16</td>\n",
       "      <td>7444.000000</td>\n",
       "      <td>16</td>\n",
       "      <td>3463321.0</td>\n",
       "      <td>16</td>\n",
       "    </tr>\n",
       "    <tr>\n",
       "      <th>75</th>\n",
       "      <td>76</td>\n",
       "      <td>349.500000</td>\n",
       "      <td>2896.000000</td>\n",
       "      <td>4</td>\n",
       "      <td>3.0</td>\n",
       "      <td>5</td>\n",
       "      <td>15.0</td>\n",
       "      <td>1979</td>\n",
       "      <td>0.9</td>\n",
       "      <td>0.81</td>\n",
       "      <td>...</td>\n",
       "      <td>0</td>\n",
       "      <td>1</td>\n",
       "      <td>0</td>\n",
       "      <td>122150.250000</td>\n",
       "      <td>11584.000000</td>\n",
       "      <td>20</td>\n",
       "      <td>14480.000000</td>\n",
       "      <td>16</td>\n",
       "      <td>8386816.0</td>\n",
       "      <td>25</td>\n",
       "    </tr>\n",
       "  </tbody>\n",
       "</table>\n",
       "<p>5 rows × 26 columns</p>\n",
       "</div>"
      ],
      "text/plain": [
       "    id       price        floor  lot  bath  bed  bathbed  year  age  agesq  \\\n",
       "71  72  249.899994  2081.000000    5   2.1    4      8.4  1970  0.0   0.00   \n",
       "72  73  215.000000  2043.999878    1   1.1    4      4.4  1936 -3.4  11.56   \n",
       "73  74  435.000000  2253.000000   11   2.0    3      6.0  1979  0.9   0.81   \n",
       "74  75  274.899994  1861.000000    4   2.0    4      8.0  1995  2.5   6.25   \n",
       "75  76  349.500000  2896.000000    4   3.0    5     15.0  1979  0.9   0.81   \n",
       "\n",
       "    ...  dad dcr  dpa         uhat_2     lot_floor  lot_bed     floor_bed  \\\n",
       "71  ...    0   0    0   62450.006949  10405.000000       20   8324.000000   \n",
       "72  ...    0   0    1   46225.000000   2043.999878        4   8175.999512   \n",
       "73  ...    0   0    0  189225.000000  24783.000000       33   6759.000000   \n",
       "74  ...    0   0    1   75570.006644   7444.000000       16   7444.000000   \n",
       "75  ...    0   1    0  122150.250000  11584.000000       20  14480.000000   \n",
       "\n",
       "    lot_2    floor_2  bed_2  \n",
       "71     25  4330561.0     16  \n",
       "72      1  4177935.5     16  \n",
       "73    121  5076009.0      9  \n",
       "74     16  3463321.0     16  \n",
       "75     16  8386816.0     25  \n",
       "\n",
       "[5 rows x 26 columns]"
      ]
     },
     "execution_count": 22,
     "metadata": {},
     "output_type": "execute_result"
    }
   ],
   "source": [
    "#examine the 7 new columns\n",
    "df.tail()\n",
    "#if you make a mistake you can drop a variable with for example df.drop([uhat_2,axis=1])\n",
    "#axis=1 means column not a row"
   ]
  },
  {
   "cell_type": "code",
   "execution_count": 23,
   "metadata": {},
   "outputs": [
    {
     "name": "stdout",
     "output_type": "stream",
     "text": [
      "                            OLS Regression Results                            \n",
      "==============================================================================\n",
      "Dep. Variable:                 uhat_2   R-squared:                       0.309\n",
      "Model:                            OLS   Adj. R-squared:                  0.215\n",
      "Method:                 Least Squares   F-statistic:                     3.278\n",
      "Date:                Fri, 17 Jul 2020   Prob (F-statistic):            0.00235\n",
      "Time:                        07:18:05   Log-Likelihood:                -890.75\n",
      "No. Observations:                  76   AIC:                             1802.\n",
      "Df Residuals:                      66   BIC:                             1825.\n",
      "Df Model:                           9                                         \n",
      "Covariance Type:            nonrobust                                         \n",
      "==============================================================================\n",
      "                 coef    std err          t      P>|t|      [0.025      0.975]\n",
      "------------------------------------------------------------------------------\n",
      "Intercept    4.37e+05   2.38e+05      1.839      0.070   -3.75e+04    9.12e+05\n",
      "lot        -3.852e+04   3.48e+04     -1.107      0.272   -1.08e+05    3.09e+04\n",
      "floor         13.5900    202.033      0.067      0.947    -389.781     416.961\n",
      "bed        -1.774e+05   1.15e+05     -1.541      0.128   -4.07e+05    5.24e+04\n",
      "lot_floor     -9.0485     16.063     -0.563      0.575     -41.119      23.022\n",
      "lot_bed     1.266e+04   5131.511      2.467      0.016    2414.897    2.29e+04\n",
      "floor_bed     12.1484     44.473      0.273      0.786     -76.645     100.942\n",
      "lot_2       2269.3817    801.750      2.831      0.006     668.637    3870.127\n",
      "floor_2        0.0010      0.085      0.012      0.991      -0.168       0.170\n",
      "bed_2       1.272e+04   6727.706      1.890      0.063    -715.206    2.61e+04\n",
      "==============================================================================\n",
      "Omnibus:                       18.875   Durbin-Watson:                   1.238\n",
      "Prob(Omnibus):                  0.000   Jarque-Bera (JB):               26.030\n",
      "Skew:                           1.052   Prob(JB):                     2.23e-06\n",
      "Kurtosis:                       4.948   Cond. No.                     2.73e+08\n",
      "==============================================================================\n",
      "\n",
      "Warnings:\n",
      "[1] Standard Errors assume that the covariance matrix of the errors is correctly specified.\n",
      "[2] The condition number is large, 2.73e+08. This might indicate that there are\n",
      "strong multicollinearity or other numerical problems.\n"
     ]
    }
   ],
   "source": [
    "#using statsmodels\n",
    "#and using these interactive variables and the residual uhat from above\n",
    "#regress residual squared on 'floor', 'lot', 'bed','lot_floor','lot_bed','floor_bed','lot_2','floor_2','bed_2'\n",
    "expr2 = 'uhat_2 ~ lot + floor + bed + lot_floor + lot_bed + floor_bed + lot_2 + floor_2 + bed_2'\n",
    "lm2 = ols(expr2, df).fit()\n",
    "print(lm2.summary())\n"
   ]
  },
  {
   "cell_type": "code",
   "execution_count": 24,
   "metadata": {},
   "outputs": [
    {
     "name": "stdout",
     "output_type": "stream",
     "text": [
      "rsquared()\n",
      " 0.30890925811929903\n",
      "parameters()\n",
      " Intercept    437001.839688\n",
      "lot          -38520.581099\n",
      "floor            13.589985\n",
      "bed         -177395.649807\n",
      "lot_floor        -9.048489\n",
      "lot_bed       12660.289827\n",
      "floor_bed        12.148391\n",
      "lot_2          2269.381658\n",
      "floor_2           0.001008\n",
      "bed_2         12717.093761\n",
      "dtype: float64\n"
     ]
    }
   ],
   "source": [
    "#you can use these commands to print the attributes of the regeression, similair to stata's \"e\"\n",
    "#print(\"summary()\\n\",lm2.summary())\n",
    "#print(\"pvalues()\\n\",lm2.pvalues)\n",
    "#print(\"tvalues()\\n\",lm2.tvalues)\n",
    "print(\"rsquared()\\n\",lm2.rsquared)\n",
    "#print(\"rsquared_adj()\\n\",lm2.rsquared_adj)\n",
    "print(\"parameters()\\n\",lm2.params)"
   ]
  },
  {
   "cell_type": "code",
   "execution_count": 25,
   "metadata": {},
   "outputs": [
    {
     "name": "stdout",
     "output_type": "stream",
     "text": [
      "0.30890925811929903\n",
      "9.0\n",
      "66.0\n",
      "76.0\n"
     ]
    }
   ],
   "source": [
    "#now declare the rsquared attribute for later use\n",
    "rsquaredlm2 = lm2.rsquared\n",
    "print (rsquaredlm2)\n",
    "#then delcare degrees of freedom for the model attribute for later use\n",
    "degfreedmodlm2 = lm2.df_model\n",
    "print(degfreedmodlm2)\n",
    "#then declare degrees of freedom for the residutal attribute for later use\n",
    "degfreedreslm2 = lm2.df_resid\n",
    "print(degfreedreslm2)\n",
    "#then declare number of observations for regression attribute for later use\n",
    "numobslm2 = lm2.nobs\n",
    "print(numobslm2)\n"
   ]
  },
  {
   "cell_type": "code",
   "execution_count": null,
   "metadata": {},
   "outputs": [],
   "source": []
  },
  {
   "cell_type": "code",
   "execution_count": 26,
   "metadata": {},
   "outputs": [
    {
     "name": "stdout",
     "output_type": "stream",
     "text": [
      "16.918977604620448\n",
      "0.95\n"
     ]
    }
   ],
   "source": [
    "#an excercise in confirming the X2 significance level tables\n",
    "from scipy.stats import chi2\n",
    "value = chi2.ppf(0.95, degfreedmodlm2)\n",
    "print(value)\n",
    "\n",
    "#confirm with cdf\n",
    "p= chi2.cdf(value, degfreedmodlm2)\n",
    "print(p)\n"
   ]
  },
  {
   "cell_type": "code",
   "execution_count": 27,
   "metadata": {},
   "outputs": [],
   "source": [
    "#THIS IS THE FINAL STEP IN THE LONG METHOD FOR THE WHITE TEST, (NOT MATCHING STATA RESULTS YET 7-14-2020)"
   ]
  },
  {
   "cell_type": "code",
   "execution_count": 28,
   "metadata": {},
   "outputs": [
    {
     "data": {
      "text/plain": [
       "Power_divergenceResult(statistic=array([955.25186468]), pvalue=array([1.09062857e-152]))"
      ]
     },
     "execution_count": 28,
     "metadata": {},
     "output_type": "execute_result"
    }
   ],
   "source": [
    "#You can carry out a chi-squared goodness-of-fit test automatically using the scipy function scipy.stats.chisquare():\n",
    "#stats.chisquare(f_obs= observed,   # Array of observed counts\n",
    "#                f_exp= expected)   # Array of expected counts\n",
    "from scipy.stats import chisquare\n",
    "obs=df['price'].values.reshape(-1,1)\n",
    "obs.shape\n",
    "chisquare(f_obs= obs, f_exp=285.79611)\n",
    "#gives you this result\n",
    "#Power_divergenceResult(statistic=array([955.25186468]), pvalue=array([1.09062857e-152]))\n",
    "#chisquare(f_obs= obs)\n",
    "#gives you this result, \n",
    "#Power_divergenceResult(statistic=array([955.2521], dtype=float32), pvalue=array([1.09052254e-152]))"
   ]
  },
  {
   "cell_type": "code",
   "execution_count": 29,
   "metadata": {},
   "outputs": [
    {
     "data": {
      "text/plain": [
       "Power_divergenceResult(statistic=955.2521, pvalue=1.090522535086657e-152)"
      ]
     },
     "execution_count": 29,
     "metadata": {},
     "output_type": "execute_result"
    }
   ],
   "source": [
    "#POWER DIVERGENT RESULT\n",
    "from scipy.stats import power_divergence\n",
    "obs.shape\n",
    "power_divergence(obs, axis=None)"
   ]
  },
  {
   "cell_type": "code",
   "execution_count": 30,
   "metadata": {},
   "outputs": [],
   "source": [
    "####for further research####\n",
    "#https://www.statsmodels.org/stable/generated/statsmodels.regression.linear_model.PredictionResults.html#statsmodels.regression.linear_model.PredictionResults\n"
   ]
  },
  {
   "cell_type": "code",
   "execution_count": 31,
   "metadata": {},
   "outputs": [
    {
     "name": "stdout",
     "output_type": "stream",
     "text": [
      "                            OLS Regression Results                            \n",
      "==============================================================================\n",
      "Dep. Variable:                  price   R-squared:                       0.185\n",
      "Model:                            OLS   Adj. R-squared:                  0.151\n",
      "Method:                 Least Squares   F-statistic:                     5.449\n",
      "Date:                Fri, 17 Jul 2020   Prob (F-statistic):            0.00197\n",
      "Time:                        07:18:25   Log-Likelihood:                -411.15\n",
      "No. Observations:                  76   AIC:                             830.3\n",
      "Df Residuals:                      72   BIC:                             839.6\n",
      "Df Model:                           3                                         \n",
      "Covariance Type:            nonrobust                                         \n",
      "==============================================================================\n",
      "                 coef    std err          t      P>|t|      [0.025      0.975]\n",
      "------------------------------------------------------------------------------\n",
      "Intercept    199.5321     64.415      3.098      0.003      71.123     327.941\n",
      "lot            6.0519      3.993      1.515      0.134      -1.909      14.012\n",
      "floor          0.0766      0.031      2.451      0.017       0.014       0.139\n",
      "bed          -25.7770      9.210     -2.799      0.007     -44.137      -7.417\n",
      "==============================================================================\n",
      "Omnibus:                        1.294   Durbin-Watson:                   1.188\n",
      "Prob(Omnibus):                  0.524   Jarque-Bera (JB):                1.268\n",
      "Skew:                           0.300   Prob(JB):                        0.530\n",
      "Kurtosis:                       2.798   Cond. No.                     2.00e+04\n",
      "==============================================================================\n",
      "\n",
      "Warnings:\n",
      "[1] Standard Errors assume that the covariance matrix of the errors is correctly specified.\n",
      "[2] The condition number is large,  2e+04. This might indicate that there are\n",
      "strong multicollinearity or other numerical problems.\n"
     ]
    }
   ],
   "source": [
    "#1st try, check regrssion using robust standard errors, se's doesn't match stata lesson 7-15-2020\n",
    "#using statsmodels\n",
    "#and using these interactive variables and the residual uhat from above\n",
    "expr3 = 'price ~ lot + floor + bed'\n",
    "lm3 = ols(expr3, df).fit()\n",
    "print(lm3.summary())\n",
    "\n",
    "#resources\n",
    "#https://www.statsmodels.org/stable/generated/statsmodels.regression.linear_model.OLSResults.get_robustcov_results.html\n",
    "#https://www.statsmodels.org/0.8.0/rlm.html?highlight=robust%20linear%20model#module-statsmodels.robust"
   ]
  },
  {
   "cell_type": "code",
   "execution_count": 32,
   "metadata": {},
   "outputs": [
    {
     "name": "stdout",
     "output_type": "stream",
     "text": [
      "HC0_se()\n",
      " Intercept    57.374840\n",
      "lot           4.088143\n",
      "floor         0.026044\n",
      "bed           8.310545\n",
      "dtype: float64\n"
     ]
    }
   ],
   "source": [
    "#print White's 1980 Robust Standard errors\n",
    "print(\"HC0_se()\\n\",lm3.HC0_se)\n",
    "#https://www.statsmodels.org/0.8.0/generated/statsmodels.regression.linear_model.RegressionResults.html#statsmodels.regression.linear_model.RegressionResults"
   ]
  },
  {
   "cell_type": "code",
   "execution_count": 34,
   "metadata": {},
   "outputs": [
    {
     "name": "stdout",
     "output_type": "stream",
     "text": [
      "[  0.15774174   8.63826222 -18.03798043]\n",
      "                    Robust linear Model Regression Results                    \n",
      "==============================================================================\n",
      "Dep. Variable:                      y   No. Observations:                   76\n",
      "Model:                            RLM   Df Residuals:                       73\n",
      "Method:                          IRLS   Df Model:                            2\n",
      "Norm:                          HuberT                                         \n",
      "Scale Est.:                       mad                                         \n",
      "Cov Type:                          H1                                         \n",
      "Date:                Fri, 17 Jul 2020                                         \n",
      "Time:                        07:19:13                                         \n",
      "No. Iterations:                    10                                         \n",
      "==============================================================================\n",
      "                 coef    std err          z      P>|z|      [0.025      0.975]\n",
      "------------------------------------------------------------------------------\n",
      "x1             0.1577      0.020      7.957      0.000       0.119       0.197\n",
      "x2             8.6383      4.136      2.088      0.037       0.532      16.745\n",
      "x3           -18.0380      9.422     -1.914      0.056     -36.505       0.429\n",
      "==============================================================================\n",
      "\n",
      "If the model instance has been used for another fit with different fit\n",
      "parameters, then the fit options might not be the correct ones anymore .\n"
     ]
    }
   ],
   "source": [
    "#using statsmodels robust linear model\n",
    "#lm4.get_robustcov_results(cov_type='HC1', use_t=None, **kwargs)\n",
    "y4 = df['price'].values.reshape(-1,1)\n",
    "X4 = pd.read_stata(hpv10data,columns=['floor', 'lot', 'bed']).values\n",
    "rlm_model4=sm.RLM(y4, X4, M=sm.robust.norms.HuberT())\n",
    "rlm_results4=rlm_model4.fit()\n",
    "print(rlm_results4.params)\n",
    "print(rlm_results4.summary())\n",
    "# The line below is not defined\n",
    "#lm4.get_robustcov_results(cov_type='HC1', use_t=None)"
   ]
  },
  {
   "cell_type": "code",
   "execution_count": 36,
   "metadata": {},
   "outputs": [
    {
     "name": "stdout",
     "output_type": "stream",
     "text": [
      "[ 2.09212038e+02  7.64740005e-02  5.28747704e+00 -2.79444815e+01]\n",
      "                    Robust linear Model Regression Results                    \n",
      "==============================================================================\n",
      "Dep. Variable:                      y   No. Observations:                   76\n",
      "Model:                            RLM   Df Residuals:                       72\n",
      "Method:                          IRLS   Df Model:                            3\n",
      "Norm:                          HuberT                                         \n",
      "Scale Est.:                       mad                                         \n",
      "Cov Type:                          H1                                         \n",
      "Date:                Fri, 17 Jul 2020                                         \n",
      "Time:                        07:19:43                                         \n",
      "No. Iterations:                     8                                         \n",
      "==============================================================================\n",
      "                 coef    std err          z      P>|z|      [0.025      0.975]\n",
      "------------------------------------------------------------------------------\n",
      "const        209.2120     65.292      3.204      0.001      81.242     337.182\n",
      "x1             0.0765      0.032      2.413      0.016       0.014       0.139\n",
      "x2             5.2875      4.048      1.306      0.191      -2.646      13.221\n",
      "x3           -27.9445      9.336     -2.993      0.003     -46.242      -9.647\n",
      "==============================================================================\n",
      "\n",
      "If the model instance has been used for another fit with different fit\n",
      "parameters, then the fit options might not be the correct ones anymore .\n"
     ]
    }
   ],
   "source": [
    "#using robust linear model - rlm but this time we'll add a constant\n",
    "y5 = df['price'].values.reshape(-1,1)\n",
    "X5 = pd.read_stata(hpv10data,columns=['floor', 'lot', 'bed']).values\n",
    "X5 = sm.add_constant(X5)\n",
    "#rlm_model5=sm.RLM(y5, X5, M=sm.robust.norms.HuberT())\n",
    "rlm_model5=sm.RLM(y5, X5, M=sm.robust.norms.HuberT())\n",
    "rlm_results5=rlm_model5.fit()\n",
    "print(rlm_results5.params)\n",
    "print(rlm_results5.summary())\n",
    "#https://www.statsmodels.org/devel/rlm.html"
   ]
  },
  {
   "cell_type": "code",
   "execution_count": 37,
   "metadata": {},
   "outputs": [
    {
     "name": "stdout",
     "output_type": "stream",
     "text": [
      "[ 2.09212038e+02  7.64740005e-02  5.28747704e+00 -2.79444815e+01]\n"
     ]
    }
   ],
   "source": [
    "print(rlm_results5.params)"
   ]
  },
  {
   "cell_type": "code",
   "execution_count": 38,
   "metadata": {},
   "outputs": [
    {
     "name": "stdout",
     "output_type": "stream",
     "text": [
      "                            OLS Regression Results                            \n",
      "==============================================================================\n",
      "Dep. Variable:                  price   R-squared:                       0.185\n",
      "Model:                            OLS   Adj. R-squared:                  0.151\n",
      "Method:                 Least Squares   F-statistic:                     5.449\n",
      "Date:                Fri, 17 Jul 2020   Prob (F-statistic):            0.00197\n",
      "Time:                        07:20:08   Log-Likelihood:                -411.15\n",
      "No. Observations:                  76   AIC:                             830.3\n",
      "Df Residuals:                      72   BIC:                             839.6\n",
      "Df Model:                           3                                         \n",
      "Covariance Type:            nonrobust                                         \n",
      "==============================================================================\n",
      "                 coef    std err          t      P>|t|      [0.025      0.975]\n",
      "------------------------------------------------------------------------------\n",
      "Intercept    199.5321     64.415      3.098      0.003      71.123     327.941\n",
      "lot            6.0519      3.993      1.515      0.134      -1.909      14.012\n",
      "floor          0.0766      0.031      2.451      0.017       0.014       0.139\n",
      "bed          -25.7770      9.210     -2.799      0.007     -44.137      -7.417\n",
      "==============================================================================\n",
      "Omnibus:                        1.294   Durbin-Watson:                   1.188\n",
      "Prob(Omnibus):                  0.524   Jarque-Bera (JB):                1.268\n",
      "Skew:                           0.300   Prob(JB):                        0.530\n",
      "Kurtosis:                       2.798   Cond. No.                     2.00e+04\n",
      "==============================================================================\n",
      "\n",
      "Warnings:\n",
      "[1] Standard Errors assume that the covariance matrix of the errors is correctly specified.\n",
      "[2] The condition number is large,  2e+04. This might indicate that there are\n",
      "strong multicollinearity or other numerical problems.\n",
      "aic()\n",
      " 830.3047033990481\n"
     ]
    }
   ],
   "source": [
    "#second try, still don't match stata lesson se's 7-15-2020\n",
    "##check regrssion using robust standard errors\n",
    "expr6 = 'price ~ lot + floor + bed'\n",
    "lm6 = ols(expr6, df).fit()\n",
    "#lm6.get_robustcov_results(cov_type='HC1', use_t=None, **kwargs)\n",
    "lm6.get_robustcov_results(cov_type='HC1', use_t=None)\n",
    "print(lm6.summary())\n",
    "#print aic for an example of attribute syntax, \\n means new line\n",
    "print(\"aic()\\n\",lm6.aic)\n",
    "\n",
    "#resources\n",
    "#https://www.statsmodels.org/stable/rlm.html\n",
    "#https://www.statsmodels.org/stable/examples/notebooks/generated/robust_models_0.html\n",
    "#https://www.statsmodels.org/stable/generated/statsmodels.regression.linear_model.RegressionResults.html\n",
    "#class statsmodels.regression.linear_model.RegressionResults\n",
    "    #(model, params, normalized_cov_params=None, scale=1.0, cov_type='nonrobust', cov_kwds=None, use_t=None, **kwargs)[source]\n",
    "#https://www.statsmodels.org/stable/generated/statsmodels.regression.linear_model.RegressionResults.html"
   ]
  },
  {
   "cell_type": "code",
   "execution_count": 39,
   "metadata": {},
   "outputs": [
    {
     "name": "stdout",
     "output_type": "stream",
     "text": [
      "Intercept    199.532070\n",
      "lot            6.051861\n",
      "floor          0.076634\n",
      "bed          -25.777043\n",
      "dtype: float64\n"
     ]
    }
   ],
   "source": [
    "print(lm6.params)"
   ]
  },
  {
   "cell_type": "code",
   "execution_count": 40,
   "metadata": {},
   "outputs": [
    {
     "name": "stdout",
     "output_type": "stream",
     "text": [
      "HC0_se()\n",
      " Intercept    57.374840\n",
      "lot           4.088143\n",
      "floor         0.026044\n",
      "bed           8.310545\n",
      "dtype: float64\n"
     ]
    }
   ],
   "source": [
    "#print White's 1980 Robust Standard errors\n",
    "print(\"HC0_se()\\n\",lm6.HC0_se)\n",
    "#https://www.statsmodels.org/0.8.0/generated/statsmodels.regression.linear_model.RegressionResults.html#statsmodels.regression.linear_model.RegressionResults"
   ]
  },
  {
   "cell_type": "code",
   "execution_count": null,
   "metadata": {},
   "outputs": [],
   "source": []
  },
  {
   "cell_type": "code",
   "execution_count": 41,
   "metadata": {},
   "outputs": [
    {
     "name": "stdout",
     "output_type": "stream",
     "text": [
      "                    Robust linear Model Regression Results                    \n",
      "==============================================================================\n",
      "Dep. Variable:                  price   No. Observations:                   76\n",
      "Model:                            RLM   Df Residuals:                       72\n",
      "Method:                          IRLS   Df Model:                            3\n",
      "Norm:                          HuberT                                         \n",
      "Scale Est.:                       mad                                         \n",
      "Cov Type:                          H1                                         \n",
      "Date:                Fri, 17 Jul 2020                                         \n",
      "Time:                        07:21:00                                         \n",
      "No. Iterations:                     8                                         \n",
      "==============================================================================\n",
      "                 coef    std err          z      P>|z|      [0.025      0.975]\n",
      "------------------------------------------------------------------------------\n",
      "Intercept    209.2120     65.292      3.204      0.001      81.242     337.182\n",
      "lot            5.2875      4.048      1.306      0.191      -2.646      13.221\n",
      "floor          0.0765      0.032      2.413      0.016       0.014       0.139\n",
      "bed          -27.9445      9.336     -2.993      0.003     -46.242      -9.647\n",
      "==============================================================================\n",
      "\n",
      "If the model instance has been used for another fit with different fit\n",
      "parameters, then the fit options might not be the correct ones anymore .\n"
     ]
    }
   ],
   "source": [
    "#run regression with rlm, robust linear model from statsmodels\n",
    "#rlm does not produce the same attributes as statsmodels ols\n",
    "from statsmodels.formula.api import ols, rlm\n",
    "rlm_model7= rlm('price ~ lot + floor + bed', df).fit()\n",
    "print(rlm_model7.summary())\n",
    "#can not print White's 1980 Robust Standard errors, rlm does not produce\n",
    "#print(\"cov_HC3_se()\\n\",rlm_model.HC7_se)\n",
    "\n",
    "#resources\n",
    "#https://www.statsmodels.org/stable/examples/notebooks/generated/robust_models_1.html\n",
    "#https://www.statsmodels.org/0.8.0/generated/statsmodels.regression.linear_model.RegressionResults.html#statsmodels.regression.linear_model.RegressionResults"
   ]
  },
  {
   "cell_type": "code",
   "execution_count": null,
   "metadata": {},
   "outputs": [],
   "source": []
  }
 ],
 "metadata": {
  "kernelspec": {
   "display_name": "Python 3",
   "language": "python",
   "name": "python3"
  },
  "language_info": {
   "codemirror_mode": {
    "name": "ipython",
    "version": 3
   },
   "file_extension": ".py",
   "mimetype": "text/x-python",
   "name": "python",
   "nbconvert_exporter": "python",
   "pygments_lexer": "ipython3",
   "version": "3.6.5"
  }
 },
 "nbformat": 4,
 "nbformat_minor": 2
}
